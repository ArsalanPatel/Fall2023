{
 "cells": [
  {
   "cell_type": "markdown",
   "metadata": {},
   "source": [
    "## Part A - Arsalan Shoaib Patel\n",
    "### Question 1\n",
    "Arange gives the array from (x1 to x2 with step size x3) with the argument being arange(x1,x2,x3)\n"
   ]
  },
  {
   "cell_type": "code",
   "execution_count": 97,
   "metadata": {},
   "outputs": [
    {
     "name": "stdout",
     "output_type": "stream",
     "text": [
      "[ 1  4  7 10 13 16 19]\n"
     ]
    }
   ],
   "source": [
    "import numpy as np\n",
    "a1= np.arange(1,21,3)\n",
    "print(a1)\n"
   ]
  },
  {
   "cell_type": "markdown",
   "metadata": {},
   "source": [
    "### Question 2\n",
    "rand gives x(argument) amount of numbers between 0 and 1"
   ]
  },
  {
   "cell_type": "code",
   "execution_count": 98,
   "metadata": {},
   "outputs": [
    {
     "name": "stdout",
     "output_type": "stream",
     "text": [
      "[0.3769218  0.80350287 0.74843086]\n"
     ]
    }
   ],
   "source": [
    "shape3array = np.random.rand(3)\n",
    "print(shape3array)"
   ]
  },
  {
   "cell_type": "markdown",
   "metadata": {},
   "source": [
    "### Question 3"
   ]
  },
  {
   "cell_type": "code",
   "execution_count": 99,
   "metadata": {},
   "outputs": [
    {
     "name": "stdout",
     "output_type": "stream",
     "text": [
      "First two Rows\n",
      " [[10 20 45]\n",
      " [30 12 16]]\n",
      "Last two Rows\n",
      " [[30 12 16]\n",
      " [42 17 56]]\n"
     ]
    }
   ],
   "source": [
    "TwoD_Array = np.array([[10, 20, 45], [30, 12, 16], [42, 17, 56]])\n",
    "print(\"First two Rows\\n\", TwoD_Array[:2, :])\n",
    "print(\"Last two Rows\\n\", TwoD_Array[1:, :])"
   ]
  },
  {
   "cell_type": "markdown",
   "metadata": {},
   "source": [
    "### Question 4"
   ]
  },
  {
   "cell_type": "code",
   "execution_count": 100,
   "metadata": {},
   "outputs": [
    {
     "name": "stdout",
     "output_type": "stream",
     "text": [
      "Vertical Stack:\n",
      " [[ 1  1]\n",
      " [ 3  5]\n",
      " [ 9  6]\n",
      " [12  4]]\n",
      "Horizontal Stack:\n",
      " [[ 1  1  9  6]\n",
      " [ 3  5 12  4]]\n",
      "Split in smaller vertical arrays:\n",
      "\n",
      "[[1 1]\n",
      " [3 5]]\n",
      "[[ 9  6]\n",
      " [12  4]]\n"
     ]
    }
   ],
   "source": [
    "\n",
    "a1 = np.array([[1, 1], \n",
    "            [3, 5]])\n",
    "a2 = np.array([[9, 6],\n",
    "            [12, 4]])\n",
    "\n",
    "print(\"Vertical Stack:\\n\", np.vstack((a1,a2)))\n",
    "print(\"Horizontal Stack:\\n\", np.hstack((a1,a2)))\n",
    "\n",
    "print(\"Split in smaller vertical arrays:\\n\")\n",
    "Vstack= np.vstack((a1,a2))\n",
    "VSplit = np.split(Vstack, 2)\n",
    "for i in VSplit:\n",
    "    print(i)"
   ]
  },
  {
   "cell_type": "markdown",
   "metadata": {},
   "source": [
    "### Question 5\n",
    "\n",
    "Dot product is possible when you multiply X * Y but not possible if you put multiply Y * X "
   ]
  },
  {
   "cell_type": "code",
   "execution_count": 101,
   "metadata": {},
   "outputs": [
    {
     "name": "stdout",
     "output_type": "stream",
     "text": [
      "Dot product possible when X * Y) [[70 28]\n",
      " [70 30]\n",
      " [60 26]]\n",
      "Multiply the Y and X\n",
      " shapes (3,2) and (3,3) not aligned: 2 (dim 1) != 3 (dim 0)\n"
     ]
    }
   ],
   "source": [
    "X = np.array([[5, 7, 2], [4, 5, 6], [7, 4, 2]])\n",
    "Y = np.array([[4, 2], [6, 2], [4, 2]])\n",
    "\n",
    "\n",
    "print(\"Dot product possible when X * Y)\", np.dot(X,Y))\n",
    "#It is not possbible when you multiply Y * X\n",
    "try:\n",
    "    dotYX = np.dot(Y,X)\n",
    "except ValueError as error:\n",
    "    dotYX = str(error)\n",
    "print(\"Multiply the Y and X\\n\", dotYX)\n"
   ]
  },
  {
   "cell_type": "markdown",
   "metadata": {},
   "source": [
    "### Question 6"
   ]
  },
  {
   "cell_type": "code",
   "execution_count": 102,
   "metadata": {},
   "outputs": [
    {
     "name": "stdout",
     "output_type": "stream",
     "text": [
      "Shape of x: (3,)\n",
      "Number of dimensions of x: 1\n",
      "Number of dimensions of Y after reshaping to a matrix(3,1): 2\n"
     ]
    }
   ],
   "source": [
    "x = np.array([2, -1, -8])\n",
    "y = np.array([3, 1, -2])\n",
    "\n",
    "\n",
    "print(\"Shape of x:\", x.shape) #x.shape gives shape\n",
    "print(\"Number of dimensions of x:\", x.ndim) #.ndim gives dimensions\n",
    "\n",
    "reshapeX= x.reshape((3,1))\n",
    "reshapeY= y.reshape((3,1))\n",
    "print(\"Number of dimensions of Y after reshaping to a matrix(3,1):\", reshapeY.ndim)"
   ]
  },
  {
   "cell_type": "markdown",
   "metadata": {},
   "source": [
    "### Question 7"
   ]
  },
  {
   "cell_type": "code",
   "execution_count": 103,
   "metadata": {},
   "outputs": [
    {
     "name": "stdout",
     "output_type": "stream",
     "text": [
      "Subtraction\n",
      " [[0 0 0]\n",
      " [2 2 2]\n",
      " [4 4 4]]\n",
      "Multiply the A and array \n",
      " [[ 2  4  6]\n",
      " [ 4  8 12]\n",
      " [ 6 12 18]]\n",
      "Multiply the A and B\n",
      " operands could not be broadcast together with shapes (3,3) (2,3) \n"
     ]
    }
   ],
   "source": [
    "matrixA = np.array([[2,2,2],\n",
    "                    [4,4,4],\n",
    "                    [6,6,6]])\n",
    "array = np.array([1,2,3])\n",
    "matrixB = np.array([[2,2,2],[4,4,4]])\n",
    "#subtraction by subtracting a scalar number from a matrix, using broadcasting\n",
    "sub = matrixA - 2\n",
    "print(\"Subtraction\\n\", sub)\n",
    "\n",
    "#Showing when multiplication is possible using broadcasting using two matrixes \n",
    "MatA_By_array = matrixA * array\n",
    "print(\"Multiply the A and array \\n\", MatA_By_array)\n",
    "\n",
    "#showing where broadcasting cant be done because of matrix sizes being different\n",
    "try:\n",
    "    matAmatB = matrixA * matrixB \n",
    "except ValueError as error:\n",
    "    matAmatB = str(error)\n",
    "print(\"Multiply the A and B\\n\", matAmatB)"
   ]
  }
 ],
 "metadata": {
  "kernelspec": {
   "display_name": "CSCN8010_classic_ml",
   "language": "python",
   "name": "cscn8010_classic_ml"
  },
  "language_info": {
   "codemirror_mode": {
    "name": "ipython",
    "version": 3
   },
   "file_extension": ".py",
   "mimetype": "text/x-python",
   "name": "python",
   "nbconvert_exporter": "python",
   "pygments_lexer": "ipython3",
   "version": "3.11.0"
  },
  "orig_nbformat": 4
 },
 "nbformat": 4,
 "nbformat_minor": 2
}
