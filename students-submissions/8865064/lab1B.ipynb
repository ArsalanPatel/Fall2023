{
 "cells": [
  {
   "cell_type": "markdown",
   "metadata": {},
   "source": [
    "## PartB - Arsalan Shoaib Patel\n",
    "### B1\n",
    "There is no linear dependence seen in these equations hence it is not singular with the matrix being non full rank. When numpy calculates the determinant of the matrix it will be non zero meaning it has a unique solution. Hence this can be solved by numpy "
   ]
  },
  {
   "cell_type": "code",
   "execution_count": 1,
   "metadata": {},
   "outputs": [
    {
     "name": "stdout",
     "output_type": "stream",
     "text": [
      "Matrix by coefficients:\n",
      " [[ 4  1 -2 10]\n",
      " [ 2 -3  2 -4]\n",
      " [ 1  2  3  6]]\n",
      "\n",
      "this system is non singular and has a unique solution\n",
      "unique solution: [[1.7999999999999998], [2.4], [-0.2]]\n"
     ]
    }
   ],
   "source": [
    "import numpy as np\n",
    "x=np.array([[4, 1, -2],\n",
    "            [2, -3, 2],\n",
    "            [1, 2, 3]])\n",
    "\n",
    "y=np.array([10, -4, 6])\n",
    "\n",
    "matrix= np.column_stack((x,y))\n",
    "print(\"Matrix by coefficients:\\n\", matrix)\n",
    "\n",
    "if (np.linalg.det(x)!=0): #means the system is non singular and has a unique solution\n",
    "    print(\"\\nthis system is non singular and has a unique solution\")\n",
    "    m= np.linalg.solve(x, y)\n",
    "    print(\"unique solution:\",[[m[0]],\n",
    "                             [m[1]],\n",
    "                             [m[2]]])\n",
    "else:\n",
    "    print(\"\\nThe system is singular, and there is no unique solution.\")\n"
   ]
  },
  {
   "cell_type": "markdown",
   "metadata": {},
   "source": [
    "### B2\n",
    "There is linear dependence seen in these equations hence it is singular with the matrix being full rank. When numpy calculates the determinant of the matrix it will be  zero meaning it has no unique solutions. Hence this can not be solved by numpy "
   ]
  },
  {
   "cell_type": "code",
   "execution_count": 2,
   "metadata": {},
   "outputs": [
    {
     "name": "stdout",
     "output_type": "stream",
     "text": [
      "Matrix by coefficients:\n",
      " [[ 2 -1  3  4 10]\n",
      " [ 4 -2  6  8 20]\n",
      " [ 3  1 -2  2  3]\n",
      " [ 1  3 -4  1 -1]]\n",
      "The matrix's determinant is zero\n",
      "\n",
      "The system is singular, and there is no unique solution.\n"
     ]
    }
   ],
   "source": [
    "x=np.array([[2, -1, 3, 4],\n",
    "              [4, -2, 6, 8],\n",
    "              [3, 1, -2, 2],\n",
    "              [1, 3, -4, 1]])\n",
    "\n",
    "\n",
    "y=np.array([10, 20, 3, -1])\n",
    "matrix= np.column_stack((x,y))\n",
    "print(\"Matrix by coefficients:\\n\", matrix)\n",
    "if (np.linalg.det(x)!=0): #means the system is non singular and has a unique solution\n",
    "    print(\"This system is non singular and has a unique solution\")\n",
    "    m= np.linalg.solve(x, y)\n",
    "    print(\"unique solution:\",[[m[0]],\n",
    "                             [m[1]],\n",
    "                             [m[2]]])\n",
    "else:\n",
    "    print(\"The matrix's determinant is zero\")\n",
    "    print(\"\\nThe system is singular, and there is no unique solution.\")\n",
    "\n"
   ]
  },
  {
   "cell_type": "code",
   "execution_count": null,
   "metadata": {},
   "outputs": [],
   "source": []
  }
 ],
 "metadata": {
  "kernelspec": {
   "display_name": "AlgoAnalysis",
   "language": "python",
   "name": "algoanalysis"
  },
  "language_info": {
   "codemirror_mode": {
    "name": "ipython",
    "version": 3
   },
   "file_extension": ".py",
   "mimetype": "text/x-python",
   "name": "python",
   "nbconvert_exporter": "python",
   "pygments_lexer": "ipython3",
   "version": "3.11.0"
  },
  "orig_nbformat": 4
 },
 "nbformat": 4,
 "nbformat_minor": 2
}
